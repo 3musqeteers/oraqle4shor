{
 "cells": [
  {
   "cell_type": "code",
   "execution_count": null,
   "id": "c5db3312",
   "metadata": {},
   "outputs": [],
   "source": [
    "from qiskit import QuantumCircuit, QuantumRegister, AncillaRegister\n",
    "from qiskit.circuit.library import MCPhaseGate, QFTGate \n",
    "from math import log2, ceil, pi"
   ]
  },
  {
   "cell_type": "code",
   "execution_count": null,
   "id": "8c7896e9",
   "metadata": {},
   "outputs": [],
   "source": [
    "def draper_adder(a, num_of_qubits, num_of_controls, exclude_qft=False):\n",
    "    ## First num_of_controls qubits are control qubits\n",
    "    circuit = QuantumCircuit(num_of_qubits + num_of_controls, name=f\"Add {a} ({num_of_controls}c+{num_of_qubits}q)\")\n",
    "\n",
    "    qft = None\n",
    "    if not exclude_qft:\n",
    "        qft = QFTGate(num_of_qubits)\n",
    "        qft_indices = range(num_of_controls, num_of_qubits+num_of_controls)\n",
    "        circuit.append(qft, qft_indices)\n",
    "\n",
    "    for i in range(num_of_qubits):\n",
    "        current_phase = 2 * pi * a / (2**(num_of_qubits - i))\n",
    "        if num_of_controls > 0:\n",
    "            circuit.mcp(current_phase, list(range(0, num_of_controls)), i+num_of_controls)\n",
    "        else:\n",
    "            circuit.p(current_phase, i)\n",
    "\n",
    "    if not exclude_qft:\n",
    "        circuit.append(qft.inverse(), qft_indices)\n",
    "\n",
    "    return circuit.to_gate()\n"
   ]
  },
  {
   "cell_type": "code",
   "execution_count": null,
   "id": "d8f8fd3d",
   "metadata": {},
   "outputs": [],
   "source": [
    "def modular_adder(a, N, num_of_qubits):\n",
    "    num_of_controls = 2\n",
    "    circuit = QuantumCircuit(num_of_qubits \n",
    "                             + 1 #ancilla qubit\n",
    "                             + 1 #overflow qubit\n",
    "                             + num_of_controls, name=f\"Modular add {a} mod {N} ({num_of_qubits}q)\")\n",
    "\n",
    "    a_adder = draper_adder(a, num_of_qubits + 1, num_of_controls, exclude_qft=True)\n",
    "    circuit.append(a_adder, range(0, num_of_controls + num_of_qubits + 1))\n",
    "    minus_N_adder = draper_adder(-N, num_of_qubits + 1, 0, exclude_qft=True)\n",
    "    circuit.append(minus_N_adder, range(num_of_controls, num_of_controls + num_of_qubits + 1))\n",
    "    \n",
    "    # Perform inverse Quantum Fourier Transform in order to read overflow bit\n",
    "    qft = QFTGate(num_of_qubits + 1)\n",
    "    qft_indices = range(num_of_controls, num_of_qubits+num_of_controls+1)\n",
    "    circuit.append(qft.inverse(), qft_indices)\n",
    "\n",
    "    overflow_bit_index = num_of_controls + num_of_qubits\n",
    "    ancilla_bit_index = overflow_bit_index + 1\n",
    "    # Use the overflow bit to check if we need to add N-a (the inverse of adding a-N)\n",
    "    circuit.cx(overflow_bit_index, ancilla_bit_index)\n",
    "\n",
    "    circuit.append(qft, qft_indices)\n",
    "    # add N back if we weren't greater than N\n",
    "    N_adder_with_control = draper_adder(N, num_of_qubits + 1, num_of_controls=1, exclude_qft=True)\n",
    "\n",
    "    # restore ancilla - this is no Joke\n",
    "    circuit.append(N_adder_with_control, [ancilla_bit_index] + list(qft_indices))\n",
    "    circuit.append(a_adder.inverse(), range(0, num_of_controls + num_of_qubits + 1))\n",
    "    circuit.append(qft.inverse(), qft_indices)\n",
    "    circuit.x(overflow_bit_index)\n",
    "    circuit.cx(overflow_bit_index, ancilla_bit_index)\n",
    "    circuit.x(overflow_bit_index)\n",
    "    circuit.append(qft, qft_indices)\n",
    "    circuit.append(a_adder, range(0, num_of_controls + num_of_qubits + 1))\n",
    "\n",
    "    return circuit.to_gate()"
   ]
  },
  {
   "cell_type": "code",
   "execution_count": null,
   "id": "b15a37f5",
   "metadata": {},
   "outputs": [],
   "source": [
    "myCircuit = QuantumCircuit(10)\n",
    "\n",
    "myModAdder = modular_adder(3, 5, 3)\n",
    "\n",
    "myCircuit.append(myModAdder, list(range(0, 7)))\n",
    "\n",
    "myCircuit.draw()"
   ]
  }
 ],
 "metadata": {
  "kernelspec": {
   "display_name": "Python 3",
   "language": "python",
   "name": "python3"
  },
  "language_info": {
   "codemirror_mode": {
    "name": "ipython",
    "version": 3
   },
   "file_extension": ".py",
   "mimetype": "text/x-python",
   "name": "python",
   "nbconvert_exporter": "python",
   "pygments_lexer": "ipython3",
   "version": "3.13.1"
  }
 },
 "nbformat": 4,
 "nbformat_minor": 5
}
