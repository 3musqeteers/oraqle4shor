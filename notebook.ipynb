{
 "cells": [
  {
   "cell_type": "code",
   "execution_count": 1,
   "id": "c5db3312",
   "metadata": {},
   "outputs": [],
   "source": [
    "from qiskit import QuantumCircuit, QuantumRegister, AncillaRegister\n",
    "from qiskit.quantum_info import Statevector\n",
    "from qiskit.circuit.library import MCPhaseGate, QFTGate \n",
    "from math import log2, ceil, pi, gcd"
   ]
  },
  {
   "cell_type": "code",
   "execution_count": 2,
   "id": "8c7896e9",
   "metadata": {},
   "outputs": [],
   "source": [
    "def draper_adder(a, num_of_qubits, num_of_controls, exclude_qft=False):\n",
    "    ## First num_of_controls qubits are control qubits\n",
    "    circuit = QuantumCircuit(num_of_qubits + num_of_controls, name=f\"Add {a} ({num_of_controls}c+{num_of_qubits}q)\")\n",
    "\n",
    "    qft = None\n",
    "    if not exclude_qft:\n",
    "        qft = QFTGate(num_of_qubits)\n",
    "        qft_indices = range(num_of_controls, num_of_qubits+num_of_controls)\n",
    "        circuit.append(qft, qft_indices)\n",
    "\n",
    "    for i in range(num_of_qubits):\n",
    "        current_phase = 2 * pi * a / (2**(num_of_qubits - i))\n",
    "        if num_of_controls > 0:\n",
    "            circuit.mcp(current_phase, list(range(0, num_of_controls)), i+num_of_controls)\n",
    "        else:\n",
    "            circuit.p(current_phase, i)\n",
    "\n",
    "    if not exclude_qft:\n",
    "        circuit.append(qft.inverse(), qft_indices)\n",
    "\n",
    "    return circuit.to_gate()\n"
   ]
  },
  {
   "cell_type": "code",
   "execution_count": 3,
   "id": "d8f8fd3d",
   "metadata": {},
   "outputs": [],
   "source": [
    "def modular_adder(a, N, num_of_qubits):\n",
    "    num_of_controls = 2\n",
    "    circuit = QuantumCircuit(num_of_qubits \n",
    "                             + 1 #ancilla qubit\n",
    "                             + 1 #overflow qubit\n",
    "                             + num_of_controls, name=f\"Modular add {a} mod {N} ({num_of_qubits}q)\")\n",
    "\n",
    "    a_adder = draper_adder(a, num_of_qubits + 1, num_of_controls, exclude_qft=True)\n",
    "    circuit.append(a_adder, range(0, num_of_controls + num_of_qubits + 1))\n",
    "    minus_N_adder = draper_adder(-N, num_of_qubits + 1, 0, exclude_qft=True)\n",
    "    circuit.append(minus_N_adder, range(num_of_controls, num_of_controls + num_of_qubits + 1))\n",
    "    \n",
    "    # Perform inverse Quantum Fourier Transform in order to read overflow bit\n",
    "    qft = QFTGate(num_of_qubits + 1)\n",
    "    qft_indices = range(num_of_controls, num_of_qubits+num_of_controls+1)\n",
    "    circuit.append(qft.inverse(), qft_indices)\n",
    "\n",
    "    overflow_bit_index = num_of_controls + num_of_qubits\n",
    "    ancilla_bit_index = overflow_bit_index + 1\n",
    "    # Use the overflow bit to check if we need to add N-a (the inverse of adding a-N)\n",
    "    circuit.cx(overflow_bit_index, ancilla_bit_index)\n",
    "\n",
    "    circuit.append(qft, qft_indices)\n",
    "    # add N back if we weren't greater than N\n",
    "    N_adder_with_control = draper_adder(N, num_of_qubits + 1, num_of_controls=1, exclude_qft=True)\n",
    "\n",
    "    # restore ancilla - this is no Joke\n",
    "    circuit.append(N_adder_with_control, [ancilla_bit_index] + list(qft_indices))\n",
    "    circuit.append(a_adder.inverse(), range(0, num_of_controls + num_of_qubits + 1))\n",
    "    circuit.append(qft.inverse(), qft_indices)\n",
    "    circuit.x(overflow_bit_index)\n",
    "    circuit.cx(overflow_bit_index, ancilla_bit_index)\n",
    "    circuit.x(overflow_bit_index)\n",
    "    circuit.append(qft, qft_indices)\n",
    "    circuit.append(a_adder, range(0, num_of_controls + num_of_qubits + 1))\n",
    "\n",
    "    return circuit.to_gate()"
   ]
  },
  {
   "cell_type": "code",
   "execution_count": 4,
   "id": "fd884065",
   "metadata": {},
   "outputs": [],
   "source": [
    "def multi_swap(num_of_qubits):\n",
    "    circuit = QuantumCircuit(2*num_of_qubits) #two copies that will be swapped\n",
    "    for i in range(num_of_qubits):\n",
    "        circuit.cx(i, num_of_qubits + i)\n",
    "        circuit.cx(num_of_qubits + i, i)\n",
    "        circuit.cx(i, num_of_qubits + i)\n",
    "    \n",
    "    return circuit.to_gate()"
   ]
  },
  {
   "cell_type": "code",
   "execution_count": 5,
   "id": "5a3a2018",
   "metadata": {},
   "outputs": [],
   "source": [
    "def inner_modular_multiplier(a, N, num_of_qubits):\n",
    "    circuit = QuantumCircuit(1 #control                            \n",
    "                             + num_of_qubits #x input\n",
    "                             + num_of_qubits #b input\n",
    "                             + 1 # overflow\n",
    "                             + 1, # ancilla \n",
    "                             name=f\"Non-clever modular multiply {a} mod {N} ({num_of_qubits}q)\")\n",
    "    \n",
    "    control_qubit_index = 0\n",
    "    overflow_qubit_index = 2*num_of_qubits + 1\n",
    "    ancilla_qubit_index = 2*num_of_qubits + 2\n",
    "    b_indices = list(range(num_of_qubits + control_qubit_index + 1, 2*num_of_qubits+control_qubit_index+1)) + [overflow_qubit_index]\n",
    "\n",
    "    qft = QFTGate(num_of_qubits + 1)\n",
    "    circuit.append(qft, b_indices)\n",
    "\n",
    "    for i in range(0, num_of_qubits):\n",
    "        current_modular_adder = modular_adder((2**i * a) % N, N, num_of_qubits)\n",
    "        adder_qubits = [control_qubit_index, control_qubit_index + i + 1] + b_indices + [ancilla_qubit_index]\n",
    "        circuit.append(current_modular_adder, adder_qubits)\n",
    "\n",
    "    circuit.append(qft.inverse(), b_indices)\n",
    "\n",
    "    return circuit.to_gate()"
   ]
  },
  {
   "cell_type": "code",
   "execution_count": 6,
   "id": "fc7f6681",
   "metadata": {},
   "outputs": [],
   "source": [
    "def modular_multiplier(a, N, num_of_qubits = None):\n",
    "    if a <= 0 or N <= 0:\n",
    "        raise ValueError(\"Expected a and N to be positive integers!\")\n",
    "    \n",
    "    if a >= N:\n",
    "        raise ValueError(\"Expected a to be smaller than N!\")        \n",
    "    \n",
    "    if num_of_qubits == None:\n",
    "        num_of_qubits = ceil(log2(N))\n",
    "\n",
    "    circuit = QuantumCircuit(1 #control                            \n",
    "                             + num_of_qubits #x input\n",
    "                             + num_of_qubits #b input\n",
    "                             + 1 # overflow\n",
    "                             + 1, # ancilla \n",
    "                             name=f\"Modular multiply {a} mod {N} ({num_of_qubits}q)\")\n",
    "\n",
    "    circuit_qubits = range(0, 2*num_of_qubits + 3)\n",
    "\n",
    "    modular_multiply_by_a = inner_modular_multiplier(a, N, num_of_qubits)\n",
    "\n",
    "    circuit.append(modular_multiply_by_a, circuit_qubits)\n",
    "    swap = multi_swap(num_of_qubits)\n",
    "    circuit.append(swap, list(range(1, num_of_qubits+1)) + list(range(num_of_qubits+1, 2*num_of_qubits + 1)))\n",
    "    \n",
    "    # Clever trick to reset the 0-qubits to zero if a and n are coprime (Figure 7)\n",
    "    if gcd(a, N) == 1:\n",
    "        a_inverse = pow(a, -1, N)\n",
    "        modular_subtract_multiply_by_a = inner_modular_multiplier(a_inverse, N, num_of_qubits).inverse()\n",
    "        circuit.append(modular_subtract_multiply_by_a, circuit_qubits)\n",
    "\n",
    "    return circuit.to_gate()"
   ]
  },
  {
   "cell_type": "code",
   "execution_count": 7,
   "id": "b15a37f5",
   "metadata": {},
   "outputs": [
    {
     "data": {
      "text/plain": [
       "2"
      ]
     },
     "execution_count": 7,
     "metadata": {},
     "output_type": "execute_result"
    }
   ],
   "source": [
    "# Computing 3 times 4 modulo 5\n",
    "multiplier = modular_multiplier(a=3, N=5)\n",
    "num_total_qubits = multiplier.num_qubits\n",
    "circuit = QuantumCircuit(num_total_qubits)\n",
    "\n",
    "## set control input to 1\n",
    "circuit.x(0)\n",
    "## set y to 4\n",
    "circuit.x(3) # y = 4\n",
    "\n",
    "circuit.append(multiplier, range(num_total_qubits))\n",
    "circuit.draw()\n",
    " \n",
    "state = Statevector.from_instruction(circuit)\n",
    "state_probabilities_dict = state.probabilities_dict()\n",
    "max_probability_argument = max(state_probabilities_dict, key=state_probabilities_dict.get)\n",
    "int(max_probability_argument[::-1][1:ceil(log2(5))+1], 2)"
   ]
  }
 ],
 "metadata": {
  "kernelspec": {
   "display_name": "Python 3",
   "language": "python",
   "name": "python3"
  },
  "language_info": {
   "codemirror_mode": {
    "name": "ipython",
    "version": 3
   },
   "file_extension": ".py",
   "mimetype": "text/x-python",
   "name": "python",
   "nbconvert_exporter": "python",
   "pygments_lexer": "ipython3",
   "version": "3.13.1"
  }
 },
 "nbformat": 4,
 "nbformat_minor": 5
}
