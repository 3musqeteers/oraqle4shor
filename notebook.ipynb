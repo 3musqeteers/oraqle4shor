{
 "cells": [
  {
   "cell_type": "code",
   "execution_count": 1,
   "id": "c5db3312",
   "metadata": {},
   "outputs": [],
   "source": [
    "from qiskit import QuantumCircuit, QuantumRegister, AncillaRegister\n",
    "from qiskit.circuit.library import MCPhaseGate, QFTGate \n",
    "from math import log2, ceil, pi"
   ]
  },
  {
   "cell_type": "code",
   "execution_count": 2,
   "id": "8c7896e9",
   "metadata": {},
   "outputs": [],
   "source": [
    "def draper_adder(a, num_of_qubits, num_of_controls, exclude_qft=False):\n",
    "    ## First num_of_controls qubits are control qubits\n",
    "    circuit = QuantumCircuit(num_of_qubits + num_of_controls, name=f\"Add {a} ({num_of_controls}c+{num_of_qubits}q)\")\n",
    "\n",
    "    qft = None\n",
    "    if not exclude_qft:\n",
    "        qft = QFTGate(num_of_qubits)\n",
    "        qft_indices = range(num_of_controls, num_of_qubits+num_of_controls)\n",
    "        circuit.append(qft, qft_indices)\n",
    "\n",
    "    for i in range(num_of_qubits):\n",
    "        current_phase = 2 * pi * a / (2**(num_of_qubits - i))\n",
    "        if num_of_controls > 0:\n",
    "            circuit.mcp(current_phase, list(range(0, num_of_controls)), i+num_of_controls)\n",
    "        else:\n",
    "            circuit.p(current_phase, i)\n",
    "\n",
    "    if not exclude_qft:\n",
    "        circuit.append(qft.inverse(), qft_indices)\n",
    "\n",
    "    return circuit.to_gate()\n"
   ]
  },
  {
   "cell_type": "code",
   "execution_count": 3,
   "id": "d8f8fd3d",
   "metadata": {},
   "outputs": [],
   "source": [
    "def modular_adder(a, N, num_of_qubits):\n",
    "    num_of_controls = 2\n",
    "    circuit = QuantumCircuit(num_of_qubits \n",
    "                             + 1 #ancilla qubit\n",
    "                             + 1 #overflow qubit\n",
    "                             + num_of_controls, name=f\"Modular add {a} mod {N} ({num_of_qubits}q)\")\n",
    "\n",
    "    a_adder = draper_adder(a, num_of_qubits + 1, num_of_controls, exclude_qft=True)\n",
    "    circuit.append(a_adder, range(0, num_of_controls + num_of_qubits + 1))\n",
    "    minus_N_adder = draper_adder(-N, num_of_qubits + 1, 0, exclude_qft=True)\n",
    "    circuit.append(minus_N_adder, range(num_of_controls, num_of_controls + num_of_qubits + 1))\n",
    "    \n",
    "    # Perform inverse Quantum Fourier Transform in order to read overflow bit\n",
    "    qft = QFTGate(num_of_qubits + 1)\n",
    "    qft_indices = range(num_of_controls, num_of_qubits+num_of_controls+1)\n",
    "    circuit.append(qft.inverse(), qft_indices)\n",
    "\n",
    "    overflow_bit_index = num_of_controls + num_of_qubits\n",
    "    ancilla_bit_index = overflow_bit_index + 1\n",
    "    # Use the overflow bit to check if we need to add N-a (the inverse of adding a-N)\n",
    "    circuit.cx(overflow_bit_index, ancilla_bit_index)\n",
    "\n",
    "    circuit.append(qft, qft_indices)\n",
    "    # add N back if we weren't greater than N\n",
    "    N_adder_with_control = draper_adder(N, num_of_qubits + 1, num_of_controls=1, exclude_qft=True)\n",
    "\n",
    "    # restore ancilla - this is no Joke\n",
    "    circuit.append(N_adder_with_control, [ancilla_bit_index] + list(qft_indices))\n",
    "    circuit.append(a_adder.inverse(), range(0, num_of_controls + num_of_qubits + 1))\n",
    "    circuit.append(qft.inverse(), qft_indices)\n",
    "    circuit.x(overflow_bit_index)\n",
    "    circuit.cx(overflow_bit_index, ancilla_bit_index)\n",
    "    circuit.x(overflow_bit_index)\n",
    "    circuit.append(qft, qft_indices)\n",
    "    circuit.append(a_adder, range(0, num_of_controls + num_of_qubits + 1))\n",
    "\n",
    "    return circuit.to_gate()"
   ]
  },
  {
   "cell_type": "code",
   "execution_count": 4,
   "id": "fd884065",
   "metadata": {},
   "outputs": [],
   "source": [
    "def multi_swap(num_of_qubits):\n",
    "    circuit = QuantumCircuit(2*num_of_qubits) #two copies that will be swapped\n",
    "    for i in range(num_of_qubits):\n",
    "        circuit.cx(i, num_of_qubits + i)\n",
    "        circuit.cx(num_of_qubits + i, i)\n",
    "        circuit.cx(i, num_of_qubits + i)\n",
    "    \n",
    "    return circuit.to_gate()"
   ]
  },
  {
   "cell_type": "code",
   "execution_count": 34,
   "id": "5a3a2018",
   "metadata": {},
   "outputs": [],
   "source": [
    "def modular_multiplier(a, N, num_of_qubits):\n",
    "    circuit = QuantumCircuit(1 #control                            \n",
    "                             + num_of_qubits #x input\n",
    "                             + num_of_qubits #b input\n",
    "                             + 1 # overflow\n",
    "                             + 1, # ancilla \n",
    "                             name=f\"Modular multiply {a} mod {N} ({num_of_qubits}q)\")\n",
    "    \n",
    "    control_qubit_index = 0\n",
    "    overflow_qubit_index = 2*num_of_qubits + 1\n",
    "    ancilla_qubit_index = 2*num_of_qubits + 2\n",
    "    b_indices = list(range(num_of_qubits + control_qubit_index + 1, 2*num_of_qubits+control_qubit_index+1)) + [overflow_qubit_index]\n",
    "\n",
    "    qft = QFTGate(num_of_qubits + 1)\n",
    "    circuit.append(qft, b_indices)\n",
    "\n",
    "    for i in range(0, num_of_qubits):\n",
    "        current_modular_adder = modular_adder(2**i * a, N, num_of_qubits)\n",
    "        adder_qubits = [control_qubit_index, control_qubit_index + i + 1] + b_indices + [ancilla_qubit_index]\n",
    "        circuit.append(current_modular_adder, adder_qubits)\n",
    "\n",
    "    circuit.append(qft.inverse(), b_indices)\n",
    "\n",
    "    swap = multi_swap(num_of_qubits)\n",
    "    circuit.append(swap, list(range(1, num_of_qubits+1)) + list(range(num_of_qubits+1, 2*num_of_qubits + 1)))\n",
    "    \n",
    "    return circuit.to_gate()"
   ]
  },
  {
   "cell_type": "code",
   "execution_count": null,
   "id": "b15a37f5",
   "metadata": {},
   "outputs": [
    {
     "data": {
      "text/plain": [
       "{np.str_('00000000111'): np.float64(1.9561862320090797e-30),\n",
       " np.str_('00000100111'): np.float64(3.6540533339490806e-31),\n",
       " np.str_('00001000111'): np.float64(1.560723431373235e-29),\n",
       " np.str_('00001100111'): np.float64(2.809045807276015e-29),\n",
       " np.str_('00010000111'): np.float64(0.9999999999999882),\n",
       " np.str_('00010100111'): np.float64(7.395854244375752e-30),\n",
       " np.str_('00011000111'): np.float64(9.875465259548975e-30),\n",
       " np.str_('00011100111'): np.float64(1.3232571423388326e-30),\n",
       " np.str_('00100000111'): np.float64(1.531067103840799e-30),\n",
       " np.str_('00100100111'): np.float64(5.601608582944111e-31),\n",
       " np.str_('00101000111'): np.float64(1.1459970192059912e-30),\n",
       " np.str_('00101100111'): np.float64(6.155675197234958e-32),\n",
       " np.str_('00110000111'): np.float64(2.821846013134326e-31),\n",
       " np.str_('00110100111'): np.float64(3.3424577606429865e-30),\n",
       " np.str_('00111000111'): np.float64(1.724683501479532e-30),\n",
       " np.str_('00111100111'): np.float64(8.992749279703538e-32),\n",
       " np.str_('01000000111'): np.float64(3.942622101544927e-30),\n",
       " np.str_('01000100111'): np.float64(1.4209178704653248e-29),\n",
       " np.str_('01001000111'): np.float64(3.9264320346362992e-31),\n",
       " np.str_('01001100111'): np.float64(4.292288456112317e-30),\n",
       " np.str_('01010000111'): np.float64(6.255869438845118e-30),\n",
       " np.str_('01010100111'): np.float64(7.177456360767068e-31),\n",
       " np.str_('01011000111'): np.float64(5.21373955568827e-30),\n",
       " np.str_('01011100111'): np.float64(6.820234484098222e-30),\n",
       " np.str_('01100000111'): np.float64(1.2314038807823154e-29),\n",
       " np.str_('01100100111'): np.float64(4.829575387048412e-30),\n",
       " np.str_('01101000111'): np.float64(6.5488347419985785e-31),\n",
       " np.str_('01101100111'): np.float64(5.9120552022602095e-30),\n",
       " np.str_('01110000111'): np.float64(2.954529661164844e-31),\n",
       " np.str_('01110100111'): np.float64(5.628911002402675e-31),\n",
       " np.str_('01111000111'): np.float64(2.223448916877326e-30),\n",
       " np.str_('01111100111'): np.float64(5.933319261050048e-33),\n",
       " np.str_('10000000111'): np.float64(5.460847999798285e-30),\n",
       " np.str_('10000100111'): np.float64(5.710244282655123e-30),\n",
       " np.str_('10001000111'): np.float64(1.1574944848794136e-31),\n",
       " np.str_('10001100111'): np.float64(6.116806506019975e-31),\n",
       " np.str_('10010000111'): np.float64(5.602408004203651e-31),\n",
       " np.str_('10010100111'): np.float64(1.0661181113105733e-30),\n",
       " np.str_('10011000111'): np.float64(5.0079011825647974e-30),\n",
       " np.str_('10011100111'): np.float64(3.619609357316722e-30),\n",
       " np.str_('10100000111'): np.float64(1.9203272182232623e-30),\n",
       " np.str_('10100100111'): np.float64(5.584527342912341e-31),\n",
       " np.str_('10101000111'): np.float64(2.2101973439242733e-30),\n",
       " np.str_('10101100111'): np.float64(1.4820646955208548e-30),\n",
       " np.str_('10110000111'): np.float64(2.4924107719441866e-31),\n",
       " np.str_('10110100111'): np.float64(4.507004617002459e-30),\n",
       " np.str_('10111000111'): np.float64(1.802462985197368e-30),\n",
       " np.str_('10111100111'): np.float64(6.8845492451183105e-34),\n",
       " np.str_('11000000111'): np.float64(1.9441343644198134e-30),\n",
       " np.str_('11000100111'): np.float64(3.767282041772776e-31),\n",
       " np.str_('11001000111'): np.float64(3.8424518276672366e-30),\n",
       " np.str_('11001100111'): np.float64(1.5009064192246027e-29),\n",
       " np.str_('11010000111'): np.float64(1.9818453048481768e-29),\n",
       " np.str_('11010100111'): np.float64(3.4630186631357676e-30),\n",
       " np.str_('11011000111'): np.float64(9.039302241930718e-31),\n",
       " np.str_('11011100111'): np.float64(9.577845717229083e-32),\n",
       " np.str_('11100000111'): np.float64(5.705123293456517e-31),\n",
       " np.str_('11100100111'): np.float64(3.192056362526392e-31),\n",
       " np.str_('11101000111'): np.float64(3.558592629389606e-31),\n",
       " np.str_('11101100111'): np.float64(1.3332242959907848e-31),\n",
       " np.str_('11110000111'): np.float64(3.162145947366652e-31),\n",
       " np.str_('11110100111'): np.float64(2.1501512387066607e-31),\n",
       " np.str_('11111000111'): np.float64(1.2717893353744533e-31),\n",
       " np.str_('11111100111'): np.float64(4.877363273210014e-31)}"
      ]
     },
     "execution_count": 5,
     "metadata": {},
     "output_type": "execute_result"
    }
   ],
   "source": [
    "#ran before adding swap\n",
    "from qiskit.quantum_info import Statevector\n",
    "\n",
    "myCircuit = QuantumCircuit(11)\n",
    "myCircuit.x(0) # set control to 1\n",
    "myCircuit.x(1) # y = 1\n",
    "myCircuit.x(2) # y = 3\n",
    "myMultiplier = modular_multiplier(3,5,4) # not sure why 4 instead of 3\n",
    "myCircuit.append(myMultiplier, range(0, 11))\n",
    "myCircuit.draw()\n",
    " \n",
    "state = Statevector.from_instruction(myCircuit)\n",
    "state.probabilities_dict()"
   ]
  },
  {
   "cell_type": "code",
   "execution_count": null,
   "id": "4e4cf688",
   "metadata": {},
   "outputs": [
    {
     "data": {
      "text/plain": [
       "{np.str_('00001100001'): np.float64(2.0717225555647926e-30),\n",
       " np.str_('00001100011'): np.float64(6.966923502491431e-32),\n",
       " np.str_('00001100101'): np.float64(1.4084012944592277e-29),\n",
       " np.str_('00001100111'): np.float64(2.8505106282034865e-29),\n",
       " np.str_('00001101001'): np.float64(0.9999999999999876),\n",
       " np.str_('00001101011'): np.float64(7.019822839587862e-30),\n",
       " np.str_('00001101101'): np.float64(9.971059908390162e-30),\n",
       " np.str_('00001101111'): np.float64(7.17046468444389e-31),\n",
       " np.str_('00001110001'): np.float64(8.801294911688171e-31),\n",
       " np.str_('00001110011'): np.float64(9.676017922716506e-31),\n",
       " np.str_('00001110101'): np.float64(1.8008001085336503e-30),\n",
       " np.str_('00001110111'): np.float64(4.4446743078314865e-32),\n",
       " np.str_('00001111001'): np.float64(3.7481655042398594e-31),\n",
       " np.str_('00001111011'): np.float64(2.2500309316691548e-30),\n",
       " np.str_('00001111101'): np.float64(1.5917532722844876e-30),\n",
       " np.str_('00001111111'): np.float64(4.078908496932801e-32),\n",
       " np.str_('01001100001'): np.float64(3.517218970984093e-30),\n",
       " np.str_('01001100011'): np.float64(1.3901048656230014e-29),\n",
       " np.str_('01001100101'): np.float64(5.672679209133487e-31),\n",
       " np.str_('01001100111'): np.float64(3.869842433772248e-30),\n",
       " np.str_('01001101001'): np.float64(5.910445752388036e-30),\n",
       " np.str_('01001101011'): np.float64(1.5238773320319221e-30),\n",
       " np.str_('01001101101'): np.float64(5.2556345073941475e-30),\n",
       " np.str_('01001101111'): np.float64(6.037066417515668e-30),\n",
       " np.str_('01001110001'): np.float64(1.4219701779127468e-29),\n",
       " np.str_('01001110011'): np.float64(5.593127176746864e-30),\n",
       " np.str_('01001110101'): np.float64(6.262472525603491e-31),\n",
       " np.str_('01001110111'): np.float64(5.0167522212190925e-30),\n",
       " np.str_('01001111001'): np.float64(2.888137140952353e-31),\n",
       " np.str_('01001111011'): np.float64(6.099211478074713e-31),\n",
       " np.str_('01001111101'): np.float64(2.6249225102383522e-30),\n",
       " np.str_('01001111111'): np.float64(2.691391846067537e-32),\n",
       " np.str_('10001100001'): np.float64(5.629911708541509e-30),\n",
       " np.str_('10001100011'): np.float64(5.343189160442409e-30),\n",
       " np.str_('10001100101'): np.float64(1.7565942873680722e-31),\n",
       " np.str_('10001100111'): np.float64(2.1547174589699934e-31),\n",
       " np.str_('10001101001'): np.float64(7.195068184837489e-31),\n",
       " np.str_('10001101011'): np.float64(1.2654645937223807e-30),\n",
       " np.str_('10001101101'): np.float64(4.7585456406377946e-30),\n",
       " np.str_('10001101111'): np.float64(3.9474421661482975e-30),\n",
       " np.str_('10001110001'): np.float64(2.400681508534307e-30),\n",
       " np.str_('10001110011'): np.float64(3.433302937955631e-31),\n",
       " np.str_('10001110101'): np.float64(2.7499548004671016e-30),\n",
       " np.str_('10001110111'): np.float64(9.085837914306233e-31),\n",
       " np.str_('10001111001'): np.float64(1.5451560602525069e-31),\n",
       " np.str_('10001111011'): np.float64(3.724324154353038e-30),\n",
       " np.str_('10001111101'): np.float64(1.6036587827759926e-30),\n",
       " np.str_('10001111111'): np.float64(1.9819975359609809e-35),\n",
       " np.str_('11001100001'): np.float64(1.5156258542309788e-30),\n",
       " np.str_('11001100011'): np.float64(5.8031280446824525e-31),\n",
       " np.str_('11001100101'): np.float64(3.678741426937954e-30),\n",
       " np.str_('11001100111'): np.float64(1.5870757133727783e-29),\n",
       " np.str_('11001101001'): np.float64(2.2622399466378912e-29),\n",
       " np.str_('11001101011'): np.float64(3.982848762658505e-30),\n",
       " np.str_('11001101101'): np.float64(5.8271633364901144e-31),\n",
       " np.str_('11001101111'): np.float64(2.0569697813657986e-31),\n",
       " np.str_('11001110001'): np.float64(6.642195551522392e-31),\n",
       " np.str_('11001110011'): np.float64(2.808448832415384e-31),\n",
       " np.str_('11001110101'): np.float64(3.210371849766389e-31),\n",
       " np.str_('11001110111'): np.float64(1.995529758575452e-31),\n",
       " np.str_('11001111001'): np.float64(2.305101937685321e-31),\n",
       " np.str_('11001111011'): np.float64(2.1639237367552004e-31),\n",
       " np.str_('11001111101'): np.float64(1.6334598034966984e-31),\n",
       " np.str_('11001111111'): np.float64(2.8914500363730728e-31)}"
      ]
     },
     "execution_count": 18,
     "metadata": {},
     "output_type": "execute_result"
    }
   ],
   "source": [
    "#ran after adding swap\n",
    "from qiskit.quantum_info import Statevector\n",
    "\n",
    "myCircuit = QuantumCircuit(11)\n",
    "myCircuit.x(0) # set control to 1\n",
    "myCircuit.x(1) # y = 1\n",
    "myCircuit.x(2) # y = 3\n",
    "myMultiplier = modular_multiplier(3,5,4) # not sure why 4 instead of 3\n",
    "myCircuit.append(myMultiplier, range(0, 11))\n",
    "myCircuit.draw()\n",
    " \n",
    "state = Statevector.from_instruction(myCircuit)\n",
    "state.probabilities_dict()"
   ]
  },
  {
   "cell_type": "code",
   "execution_count": 39,
   "id": "98128869",
   "metadata": {},
   "outputs": [
    {
     "data": {
      "text/plain": [
       "np.str_('001001111')"
      ]
     },
     "execution_count": 39,
     "metadata": {},
     "output_type": "execute_result"
    }
   ],
   "source": [
    "#setting using ceil(log2(N)), 3*4 = 7 (mod 5)!!\n",
    "from qiskit.quantum_info import Statevector\n",
    "\n",
    "myMultiplier = modular_multiplier(3,5,ceil(log2(5)))\n",
    "num_total_qubits = myMultiplier.num_qubits\n",
    "myCircuit = QuantumCircuit(num_total_qubits)\n",
    "myCircuit.x(0) # set control to 1\n",
    "myCircuit.x(3) # y = 4\n",
    "\n",
    "myCircuit.append(myMultiplier, range(num_total_qubits))\n",
    "myCircuit.draw()\n",
    " \n",
    "state = Statevector.from_instruction(myCircuit)\n",
    "my_dict = state.probabilities_dict()\n",
    "max(my_dict, key=my_dict.get)"
   ]
  },
  {
   "cell_type": "code",
   "execution_count": 40,
   "id": "893d8e0b",
   "metadata": {},
   "outputs": [
    {
     "data": {
      "text/plain": [
       "np.str_('10010000101')"
      ]
     },
     "execution_count": 40,
     "metadata": {},
     "output_type": "execute_result"
    }
   ],
   "source": [
    "#setting using ceil(log2(N)) + 1, 3*4 = 2\n",
    "from qiskit.quantum_info import Statevector\n",
    "\n",
    "myMultiplier = modular_multiplier(3,5,ceil(log2(5)) + 1)\n",
    "num_total_qubits = myMultiplier.num_qubits\n",
    "myCircuit = QuantumCircuit(num_total_qubits)\n",
    "myCircuit.x(0) # set control to 1\n",
    "myCircuit.x(3) # y = 4\n",
    "\n",
    "myCircuit.append(myMultiplier, range(num_total_qubits))\n",
    "myCircuit.draw()\n",
    " \n",
    "state = Statevector.from_instruction(myCircuit)\n",
    "my_dict = state.probabilities_dict()\n",
    "max(my_dict, key=my_dict.get)"
   ]
  },
  {
   "cell_type": "code",
   "execution_count": 41,
   "id": "aa36a2c4",
   "metadata": {},
   "outputs": [
    {
     "data": {
      "text/plain": [
       "np.str_('10010001101')"
      ]
     },
     "execution_count": 41,
     "metadata": {},
     "output_type": "execute_result"
    }
   ],
   "source": [
    "#setting using ceil(log2(N)) + 1, 4*4 = 6\n",
    "from qiskit.quantum_info import Statevector\n",
    "\n",
    "myMultiplier = modular_multiplier(4,5,ceil(log2(5)) + 1)\n",
    "num_total_qubits = myMultiplier.num_qubits\n",
    "myCircuit = QuantumCircuit(num_total_qubits)\n",
    "myCircuit.x(0) # set control to 1\n",
    "myCircuit.x(3) # y = 4\n",
    "\n",
    "myCircuit.append(myMultiplier, range(num_total_qubits))\n",
    "myCircuit.draw()\n",
    " \n",
    "state = Statevector.from_instruction(myCircuit)\n",
    "my_dict = state.probabilities_dict()\n",
    "max(my_dict, key=my_dict.get)"
   ]
  },
  {
   "cell_type": "code",
   "execution_count": 42,
   "id": "350b31c7",
   "metadata": {},
   "outputs": [
    {
     "data": {
      "text/plain": [
       "np.str_('0000100001101')"
      ]
     },
     "execution_count": 42,
     "metadata": {},
     "output_type": "execute_result"
    }
   ],
   "source": [
    "#setting using ceil(log2(N)) + 2, 4*4 = 6\n",
    "from qiskit.quantum_info import Statevector\n",
    "\n",
    "myMultiplier = modular_multiplier(4,5,ceil(log2(5)) + 2)\n",
    "num_total_qubits = myMultiplier.num_qubits\n",
    "myCircuit = QuantumCircuit(num_total_qubits)\n",
    "myCircuit.x(0) # set control to 1\n",
    "myCircuit.x(3) # y = 4\n",
    "\n",
    "myCircuit.append(myMultiplier, range(num_total_qubits))\n",
    "myCircuit.draw()\n",
    " \n",
    "state = Statevector.from_instruction(myCircuit)\n",
    "my_dict = state.probabilities_dict()\n",
    "max(my_dict, key=my_dict.get)"
   ]
  },
  {
   "cell_type": "code",
   "execution_count": null,
   "id": "16f9ec22",
   "metadata": {},
   "outputs": [
    {
     "data": {
      "text/plain": [
       "np.str_('100001000000011')"
      ]
     },
     "execution_count": 43,
     "metadata": {},
     "output_type": "execute_result"
    }
   ],
   "source": [
    "#setting using ceil(log2(N)) + 3, 4*4 = 1\n",
    "from qiskit.quantum_info import Statevector\n",
    "\n",
    "myMultiplier = modular_multiplier(4,5,ceil(log2(5)) + 3)\n",
    "num_total_qubits = myMultiplier.num_qubits\n",
    "myCircuit = QuantumCircuit(num_total_qubits)\n",
    "myCircuit.x(0) # set control to 1\n",
    "myCircuit.x(3) # y = 4\n",
    "\n",
    "myCircuit.append(myMultiplier, range(num_total_qubits))\n",
    "myCircuit.draw()\n",
    " \n",
    "state = Statevector.from_instruction(myCircuit)\n",
    "my_dict = state.probabilities_dict()\n",
    "max(my_dict, key=my_dict.get)"
   ]
  },
  {
   "cell_type": "code",
   "execution_count": null,
   "id": "cb33389e",
   "metadata": {},
   "outputs": [],
   "source": []
  }
 ],
 "metadata": {
  "kernelspec": {
   "display_name": "quantum",
   "language": "python",
   "name": "python3"
  },
  "language_info": {
   "codemirror_mode": {
    "name": "ipython",
    "version": 3
   },
   "file_extension": ".py",
   "mimetype": "text/x-python",
   "name": "python",
   "nbconvert_exporter": "python",
   "pygments_lexer": "ipython3",
   "version": "3.13.2"
  }
 },
 "nbformat": 4,
 "nbformat_minor": 5
}
