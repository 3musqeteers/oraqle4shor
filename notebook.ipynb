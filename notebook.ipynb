{
 "cells": [
  {
   "cell_type": "code",
   "execution_count": null,
   "id": "c5db3312",
   "metadata": {},
   "outputs": [],
   "source": [
    "from qiskit import QuantumCircuit, QuantumRegister\n",
    "from qiskit.circuit.library import MCPhaseGate, QFTGate \n",
    "from math import log2, ceil, pi"
   ]
  },
  {
   "cell_type": "code",
   "execution_count": null,
   "id": "8c7896e9",
   "metadata": {},
   "outputs": [],
   "source": [
    "def draper_adder(a, num_of_qubits, num_of_controls, exclude_qft=False):\n",
    "    ## First num_of_controls qubits are control qubits\n",
    "    circuit = QuantumCircuit(num_of_qubits + num_of_controls, name=f\"Add {a}, {num_of_controls}c+{num_of_qubits}q\")\n",
    "\n",
    "    if not exclude_qft:\n",
    "        qft = QFTGate(num_of_qubits)\n",
    "        qft_indices = range(num_of_controls, num_of_qubits+num_of_controls)\n",
    "        circuit.append(qft, qft_indices)\n",
    "\n",
    "    for i in range(num_of_qubits):\n",
    "        current_phase = 2 * pi * a / (2**(num_of_qubits - i))\n",
    "        if num_of_controls > 0:\n",
    "            circuit.mcp(current_phase, list(range(0, num_of_controls)), i+num_of_controls)\n",
    "        else:\n",
    "            circuit.p(current_phase, i)\n",
    "\n",
    "    if exclude_qft:\n",
    "        circuit.append(qft.inverse(), qft_indices)\n",
    "\n",
    "    return circuit.to_gate()\n"
   ]
  },
  {
   "cell_type": "code",
   "execution_count": null,
   "id": "b15a37f5",
   "metadata": {},
   "outputs": [],
   "source": [
    "myCircuit = QuantumCircuit(8)\n",
    "\n",
    "myAdder = draper_adder(5, 4, 2)\n",
    "\n",
    "myCircuit.append(myAdder, list(range(0, 6)))\n",
    "\n",
    "myCircuit.draw()"
   ]
  }
 ],
 "metadata": {
  "kernelspec": {
   "display_name": "Python 3",
   "language": "python",
   "name": "python3"
  },
  "language_info": {
   "codemirror_mode": {
    "name": "ipython",
    "version": 3
   },
   "file_extension": ".py",
   "mimetype": "text/x-python",
   "name": "python",
   "nbconvert_exporter": "python",
   "pygments_lexer": "ipython3",
   "version": "3.13.1"
  }
 },
 "nbformat": 4,
 "nbformat_minor": 5
}
